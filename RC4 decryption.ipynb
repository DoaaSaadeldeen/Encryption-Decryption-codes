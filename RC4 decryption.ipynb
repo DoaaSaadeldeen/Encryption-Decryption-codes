{
 "cells": [
  {
   "cell_type": "code",
   "execution_count": 2,
   "metadata": {},
   "outputs": [
    {
     "data": {
      "text/plain": [
       "['h', 'e', 'l', 'l', 'o', ' ', 'w', 'o', 'r', 'l', 'd']"
      ]
     },
     "execution_count": 2,
     "metadata": {},
     "output_type": "execute_result"
    }
   ],
   "source": [
    "c_text='\\x85S¾pí\\x84¡É@§ß'\n",
    "key='secret'\n",
    "pl_text=''\n",
    "#first step\n",
    "S=[i for i in range(256)]\n",
    "#second step\n",
    "T=[key[i%len(key)] for i in range(256)] \n",
    "T=[ord(T[i]) for i in range(256)]\n",
    "#third step\n",
    "\n",
    "j=0\n",
    "tmp=0\n",
    "for i in range(256):\n",
    "    j=(j+S[i]+T[i])%256\n",
    "    tmp=S[i]\n",
    "    S[i]=S[j]\n",
    "    S[j]=tmp   \n",
    "#step 4\n",
    "\n",
    "new_key=[0 for i in range(len(c_text))]\n",
    "\n",
    "j=0\n",
    "i=0\n",
    "for k in range(len(c_text)):\n",
    "    i=(i+1)%256\n",
    "    j=(j+S[i])%256\n",
    "    tmp=S[i]\n",
    "    S[i]=S[j]\n",
    "    S[j]=tmp  \n",
    "    t=(S[i]+S[j])%256\n",
    "    new_key[k]=S[t]\n",
    "new_key    \n",
    "\n",
    "#step 5\n",
    "pl_text=[chr(ord(c_text[i]) ^ new_key[i]) for i in range(len(c_text))]\n",
    "pl_text"
   ]
  },
  {
   "cell_type": "code",
   "execution_count": null,
   "metadata": {},
   "outputs": [],
   "source": []
  }
 ],
 "metadata": {
  "kernelspec": {
   "display_name": "Python 3",
   "language": "python",
   "name": "python3"
  },
  "language_info": {
   "codemirror_mode": {
    "name": "ipython",
    "version": 3
   },
   "file_extension": ".py",
   "mimetype": "text/x-python",
   "name": "python",
   "nbconvert_exporter": "python",
   "pygments_lexer": "ipython3",
   "version": "3.6.5"
  }
 },
 "nbformat": 4,
 "nbformat_minor": 2
}
